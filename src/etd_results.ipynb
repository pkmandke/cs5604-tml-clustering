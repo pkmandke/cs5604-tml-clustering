{
 "cells": [
  {
   "cell_type": "markdown",
   "metadata": {},
   "source": [
    "# Analyze ETD clustering results"
   ]
  },
  {
   "cell_type": "code",
   "execution_count": 1,
   "metadata": {},
   "outputs": [],
   "source": [
    "import joblib\n",
    "import matplotlib.pyplot as plt\n",
    "import pandas as pd\n",
    "import os\n",
    "\n",
    "import utils\n",
    "\n",
    "\n",
    "from pre_process import extract_mapped_doc2vecs\n",
    "\n",
    "from IPython.core.interactiveshell import InteractiveShell\n",
    "InteractiveShell.ast_node_interactivity = \"all\""
   ]
  },
  {
   "cell_type": "markdown",
   "metadata": {},
   "source": [
    "## DBSCAN iters"
   ]
  },
  {
   "cell_type": "code",
   "execution_count": 2,
   "metadata": {},
   "outputs": [],
   "source": [
    "ITER = '1'\n",
    "OBJ_PATH = '../obj/etd/DBSCAN/iter_' + ITER + '/' + 'dbscan_wrapper.sav'\n",
    "os.chdir('/home/pkmandke/home/ECE/info_ret/cs5604-tml-clustering/src/')"
   ]
  },
  {
   "cell_type": "code",
   "execution_count": 3,
   "metadata": {},
   "outputs": [],
   "source": [
    "dbscan_model = joblib.load(OBJ_PATH)"
   ]
  },
  {
   "cell_type": "code",
   "execution_count": 4,
   "metadata": {},
   "outputs": [],
   "source": [
    "for _ in dbscan_model.model.labels_:\n",
    "    if _:\n",
    "        pass\n",
    "        #print(_)\n",
    "# Prints all -1"
   ]
  },
  {
   "cell_type": "markdown",
   "metadata": {},
   "source": [
    "## Agglomerative clustering"
   ]
  },
  {
   "cell_type": "code",
   "execution_count": 5,
   "metadata": {},
   "outputs": [],
   "source": [
    "aglo_model = joblib.load('../obj/etd/agglo_clus/iter_1/agglo_clus_obj.sav')"
   ]
  },
  {
   "cell_type": "code",
   "execution_count": 6,
   "metadata": {},
   "outputs": [],
   "source": [
    "# set(aglo_model.predictions) # Prints number 0 through 499 verified "
   ]
  },
  {
   "cell_type": "code",
   "execution_count": 7,
   "metadata": {},
   "outputs": [],
   "source": [
    "dframe = pd.read_json('../data/30Kmetadata.json', orient=str, lines=True)[['identifier-uri',\\\n",
    "                                                                           'contributor-department', 'searchTitle']]\n",
    "#clust = joblib.load('../obj/agglo_clus/iter_1/abstracts_etd_doc2vec_5000_docs_ag_clus.sav')"
   ]
  },
  {
   "cell_type": "markdown",
   "metadata": {},
   "source": [
    "## Helper functions"
   ]
  },
  {
   "cell_type": "code",
   "execution_count": 8,
   "metadata": {},
   "outputs": [],
   "source": [
    "def setify(depts):\n",
    "    unq = []\n",
    "    for st in depts:\n",
    "        if st in unq:\n",
    "            continue\n",
    "        unq.append(st)\n",
    "    return unq\n",
    "\n",
    "def get_unique_field(df, field):\n",
    "    \n",
    "    return setify(df[field])\n",
    "\n",
    "def find_docs_in_cluster(df, idx, clust):\n",
    "    \n",
    "    return df.loc[df['identifier-uri'].isin([clust.doc_names[_] for _ in idx])]"
   ]
  },
  {
   "cell_type": "markdown",
   "metadata": {},
   "source": [
    "## Unique Departments of documents in a given cluster"
   ]
  },
  {
   "cell_type": "code",
   "execution_count": 9,
   "metadata": {},
   "outputs": [],
   "source": [
    "pd.options.display.max_rows = 5002\n",
    "def uniq_field(clus_idx, field):\n",
    "    idx = [idx for idx, _ in enumerate(aglo_model.predictions) if _ == clus_idx] # Cluster numer\n",
    "    depts = [_ for _ in dframe[field]]\n",
    "\n",
    "    return get_unique_field(find_docs_in_cluster(dframe, idx, aglo_model), field)\n"
   ]
  },
  {
   "cell_type": "code",
   "execution_count": 10,
   "metadata": {
    "scrolled": true
   },
   "outputs": [
    {
     "data": {
      "text/plain": [
       "['Psychology ',\n",
       " 'Sociology ',\n",
       " 'Higher Education and Student Affairs ',\n",
       " 'Educational Leadership and Policy Studies ',\n",
       " 'Education ',\n",
       " 'Housing, Interior Design, and Resource Management ',\n",
       " 'Agricultural and Extension Education ',\n",
       " 'Political Science ',\n",
       " 'Mechanical Engineering ',\n",
       " 'Human Development ',\n",
       " 'Housing, Interior Design and Resource Management ',\n",
       " 'Teaching and Learning ',\n",
       " 'Educational Research and Evaluation ',\n",
       " 'Engineering Education ',\n",
       " 'Marriage and Family Therapy ',\n",
       " 'Management ',\n",
       " 'Adult and Continuing Education ',\n",
       " 'Family and Child Development ',\n",
       " 'Human Resources and Education ',\n",
       " 'Vocational and Technical Education ',\n",
       " 'Curriculum and Instruction ',\n",
       " 'Administration and Supervision of Special Education ',\n",
       " 'Counseling (School Psychology) ',\n",
       " 'Instructional Supervision ',\n",
       " 'Clothing and Textiles ',\n",
       " 'Higher Education Administration ',\n",
       " 'Student Personnel Services ',\n",
       " 'Counselor Education and Student Personnel Services ',\n",
       " 'Educational Research ']"
      ]
     },
     "execution_count": 10,
     "metadata": {},
     "output_type": "execute_result"
    }
   ],
   "source": [
    "#clust.doc_names[304]\n",
    "uniq_field(1, 'contributor-department') # Cluster number 2"
   ]
  },
  {
   "cell_type": "code",
   "execution_count": 11,
   "metadata": {
    "scrolled": true
   },
   "outputs": [
    {
     "data": {
      "text/plain": [
       "['Civil Engineering ',\n",
       " 'Computer Science ',\n",
       " 'Building Construction ',\n",
       " 'Industrial and Systems Engineering ',\n",
       " 'Aerospace and Ocean Engineering ',\n",
       " 'Systems Engineering ',\n",
       " 'Agricultural Economics ',\n",
       " 'Industrial Engineering and Operations Research ',\n",
       " 'Civil and Environmental Engineering ',\n",
       " 'Mechanical Engineering ',\n",
       " 'Architecture ',\n",
       " 'Environmental Design and Planning ',\n",
       " 'Public Administration and Public Affairs ',\n",
       " 'Hospitality and Tourism Management ',\n",
       " 'Accounting and Information Systems ',\n",
       " 'Management ',\n",
       " 'Business (Accounting) ',\n",
       " 'Vocational and Technical Education ',\n",
       " 'Wood Science and Forest Products ',\n",
       " 'Community College Education ',\n",
       " 'Business Administration (Accounting) ',\n",
       " 'Forest Resources and Environmental Conservation ',\n",
       " 'Engineering Education ',\n",
       " 'School of Public and International Affairs ']"
      ]
     },
     "execution_count": 11,
     "metadata": {},
     "output_type": "execute_result"
    }
   ],
   "source": [
    "uniq_field(2, 'contributor-department')"
   ]
  },
  {
   "cell_type": "code",
   "execution_count": 12,
   "metadata": {},
   "outputs": [
    {
     "data": {
      "text/plain": [
       "['Veterinary Medical Sciences ']"
      ]
     },
     "execution_count": 12,
     "metadata": {},
     "output_type": "execute_result"
    }
   ],
   "source": [
    "uniq_field(100, 'contributor-department')"
   ]
  },
  {
   "cell_type": "code",
   "execution_count": 13,
   "metadata": {
    "scrolled": false
   },
   "outputs": [
    {
     "name": "stdout",
     "output_type": "stream",
     "text": [
      "Calinski-Harasbasz Score 25.153143449371612 \n",
      "Davies Bouldin Score 3.4227245255504486 \n",
      "Silhoutte Score -0.08218313008546829\n"
     ]
    }
   ],
   "source": [
    "### Compute standard scores\n",
    "\n",
    "chs = utils.get_calinski_harabasz_score(aglo_model.feature_matrix, aglo_model.predictions)\n",
    "dbs = utils.get_davies_bouldin_score(aglo_model.feature_matrix, aglo_model.predictions)\n",
    "sc = utils.get_silhoutte_score(aglo_model.feature_matrix, aglo_model.predictions)\n",
    "\n",
    "print(\"Calinski-Harasbasz Score {} \\nDavies Bouldin Score {} \\nSilhoutte Score {}\".format(chs, dbs, sc))"
   ]
  },
  {
   "cell_type": "markdown",
   "metadata": {},
   "source": [
    "## KMeans clustering"
   ]
  },
  {
   "cell_type": "code",
   "execution_count": 14,
   "metadata": {},
   "outputs": [],
   "source": [
    "kmeans_model = joblib.load('../obj/etd/kmeans/iter_2/abstracts_etd_doc2vec_all_docs30961_docs_kmeans.sav')\n",
    "etd_docvecs = joblib.load('../obj/etd/doc2vec/abstracts_etd_doc2vec_all_docs30961_docs')"
   ]
  },
  {
   "cell_type": "code",
   "execution_count": 15,
   "metadata": {},
   "outputs": [],
   "source": [
    "\n",
    "data, keys = extract_mapped_doc2vecs(etd_docvecs)\n",
    "#keys"
   ]
  },
  {
   "cell_type": "code",
   "execution_count": 16,
   "metadata": {},
   "outputs": [],
   "source": [
    "ordered_labels = [kmeans_model.km.labels_[kmeans_model.doc_list.index(uri)] for uri in keys]"
   ]
  },
  {
   "cell_type": "code",
   "execution_count": 17,
   "metadata": {},
   "outputs": [
    {
     "name": "stdout",
     "output_type": "stream",
     "text": [
      "Calinski-Harasbasz Score 26.63756549021577 \n",
      "Davies Bouldin Score 2.9849082706410637 \n",
      "Silhoutte Score -0.07029791176319122\n"
     ]
    }
   ],
   "source": [
    "### Compute standard scores\n",
    "\n",
    "chs = utils.get_calinski_harabasz_score(data, ordered_labels)\n",
    "dbs = utils.get_davies_bouldin_score(data, ordered_labels)\n",
    "sc = utils.get_silhoutte_score(data, ordered_labels)\n",
    "\n",
    "print(\"Calinski-Harasbasz Score {} \\nDavies Bouldin Score {} \\nSilhoutte Score {}\".format(chs, dbs, sc))"
   ]
  },
  {
   "cell_type": "markdown",
   "metadata": {},
   "source": [
    "## BIRCH results"
   ]
  },
  {
   "cell_type": "code",
   "execution_count": 18,
   "metadata": {},
   "outputs": [],
   "source": [
    "birch_model = joblib.load('../obj/etd/birch/iter_1/birch_full_data_docvecs.sav')\n",
    "etd_docvecs = joblib.load('../obj/etd/doc2vec/abstracts_etd_doc2vec_all_docs30961_docs')"
   ]
  },
  {
   "cell_type": "code",
   "execution_count": 19,
   "metadata": {},
   "outputs": [],
   "source": [
    "data, keys = extract_mapped_doc2vecs(etd_docvecs)\n",
    "#keys"
   ]
  },
  {
   "cell_type": "code",
   "execution_count": 20,
   "metadata": {},
   "outputs": [],
   "source": [
    "ordered_labels = [birch_model.model.labels_[birch_model.doc_list.index(uri)] for uri in keys]"
   ]
  },
  {
   "cell_type": "code",
   "execution_count": 21,
   "metadata": {},
   "outputs": [
    {
     "name": "stdout",
     "output_type": "stream",
     "text": [
      "Calinski-Harasbasz Score 25.06948550055764 \n",
      "Davies Bouldin Score 3.4470936953000235 \n",
      "Silhoutte Score -0.07461804151535034\n"
     ]
    }
   ],
   "source": [
    "### Compute standard scores\n",
    "\n",
    "chs = utils.get_calinski_harabasz_score(data, ordered_labels)\n",
    "dbs = utils.get_davies_bouldin_score(data, ordered_labels)\n",
    "sc = utils.get_silhoutte_score(data, ordered_labels)\n",
    "\n",
    "print(\"Calinski-Harasbasz Score {} \\nDavies Bouldin Score {} \\nSilhoutte Score {}\".format(chs, dbs, sc))"
   ]
  },
  {
   "cell_type": "markdown",
   "metadata": {},
   "source": [
    "# Visualization"
   ]
  },
  {
   "cell_type": "code",
   "execution_count": 22,
   "metadata": {},
   "outputs": [],
   "source": [
    "import matplotlib.pyplot as plt"
   ]
  },
  {
   "cell_type": "markdown",
   "metadata": {},
   "source": [
    "## Cluster Histograms"
   ]
  },
  {
   "cell_type": "code",
   "execution_count": 23,
   "metadata": {},
   "outputs": [
    {
     "data": {
      "text/plain": [
       "72"
      ]
     },
     "execution_count": 23,
     "metadata": {},
     "output_type": "execute_result"
    }
   ],
   "source": [
    "len(aglo_model.predictions[aglo_model.predictions == 1])"
   ]
  },
  {
   "cell_type": "code",
   "execution_count": 24,
   "metadata": {},
   "outputs": [
    {
     "data": {
      "text/plain": [
       "[<matplotlib.lines.Line2D at 0x7f21cde1aa58>]"
      ]
     },
     "execution_count": 24,
     "metadata": {},
     "output_type": "execute_result"
    },
    {
     "data": {
      "text/plain": [
       "Text(0.5, 0, 'CLuster Number')"
      ]
     },
     "execution_count": 24,
     "metadata": {},
     "output_type": "execute_result"
    },
    {
     "data": {
      "text/plain": [
       "Text(0, 0.5, 'Cluster size')"
      ]
     },
     "execution_count": 24,
     "metadata": {},
     "output_type": "execute_result"
    },
    {
     "data": {
      "text/plain": [
       "Text(0.5, 1.0, 'Agglomerative Clustering')"
      ]
     },
     "execution_count": 24,
     "metadata": {},
     "output_type": "execute_result"
    },
    {
     "data": {
      "image/png": "[encoded data removed]",
      "text/plain": [
       "<Figure size 432x288 with 1 Axes>"
      ]
     },
     "metadata": {
      "needs_background": "light"
     },
     "output_type": "display_data"
    }
   ],
   "source": [
    "plt.plot(list(set(aglo_model.predictions)), [len(aglo_model.predictions[aglo_model.predictions == _]) \\\n",
    "                                             for _ in list(set(aglo_model.predictions))], '-ro')\n",
    "plt.xlabel('CLuster Number')\n",
    "plt.ylabel('Cluster size')\n",
    "plt.title('Agglomerative Clustering')\n",
    "plt.show()"
   ]
  },
  {
   "cell_type": "code",
   "execution_count": 25,
   "metadata": {},
   "outputs": [
    {
     "data": {
      "text/plain": [
       "[<matplotlib.lines.Line2D at 0x7f21d232b5f8>]"
      ]
     },
     "execution_count": 25,
     "metadata": {},
     "output_type": "execute_result"
    },
    {
     "data": {
      "text/plain": [
       "Text(0.5, 0, 'CLuster Number')"
      ]
     },
     "execution_count": 25,
     "metadata": {},
     "output_type": "execute_result"
    },
    {
     "data": {
      "text/plain": [
       "Text(0, 0.5, 'Cluster size')"
      ]
     },
     "execution_count": 25,
     "metadata": {},
     "output_type": "execute_result"
    },
    {
     "data": {
      "text/plain": [
       "Text(0.5, 1.0, 'K-Means Clustering')"
      ]
     },
     "execution_count": 25,
     "metadata": {},
     "output_type": "execute_result"
    },
    {
     "data": {
      "image/png": "[encoded data removed]",
      "text/plain": [
       "<Figure size 432x288 with 1 Axes>"
      ]
     },
     "metadata": {
      "needs_background": "light"
     },
     "output_type": "display_data"
    }
   ],
   "source": [
    "plt.plot(list(set(aglo_model.predictions)), [len(kmeans_model.km.labels_[kmeans_model.km.labels_ == _]) \\\n",
    "                                             for _ in list(set(kmeans_model.km.labels_))], '-bo')\n",
    "plt.xlabel('CLuster Number')\n",
    "plt.ylabel('Cluster size')\n",
    "plt.title('K-Means Clustering')\n",
    "plt.show()"
   ]
  },
  {
   "cell_type": "code",
   "execution_count": 26,
   "metadata": {},
   "outputs": [
    {
     "data": {
      "text/plain": [
       "[<matplotlib.lines.Line2D at 0x7f21d3481390>]"
      ]
     },
     "execution_count": 26,
     "metadata": {},
     "output_type": "execute_result"
    },
    {
     "data": {
      "text/plain": [
       "Text(0.5, 0, 'CLuster Number')"
      ]
     },
     "execution_count": 26,
     "metadata": {},
     "output_type": "execute_result"
    },
    {
     "data": {
      "text/plain": [
       "Text(0, 0.5, 'Cluster size')"
      ]
     },
     "execution_count": 26,
     "metadata": {},
     "output_type": "execute_result"
    },
    {
     "data": {
      "text/plain": [
       "Text(0.5, 1.0, 'BIRCH Clustering')"
      ]
     },
     "execution_count": 26,
     "metadata": {},
     "output_type": "execute_result"
    },
    {
     "data": {
      "image/png": "[encoded data removed]",
      "text/plain": [
       "<Figure size 432x288 with 1 Axes>"
      ]
     },
     "metadata": {
      "needs_background": "light"
     },
     "output_type": "display_data"
    }
   ],
   "source": [
    "plt.plot(list(set(birch_model.model.labels_)), [len(birch_model.model.labels_[birch_model.model.labels_ == _]) \\\n",
    "                                             for _ in list(set(birch_model.model.labels_))], '-bo')\n",
    "plt.xlabel('CLuster Number')\n",
    "plt.ylabel('Cluster size')\n",
    "plt.title('BIRCH Clustering')\n",
    "plt.show()"
   ]
  },
  {
   "cell_type": "markdown",
   "metadata": {},
   "source": [
    "## Average documents per cluster"
   ]
  },
  {
   "cell_type": "code",
   "execution_count": 27,
   "metadata": {},
   "outputs": [
    {
     "name": "stdout",
     "output_type": "stream",
     "text": [
      "Average Documents for Agglomerative Clustering 46.28\n"
     ]
    }
   ],
   "source": [
    "print('Average Documents for Agglomerative Clustering {}'.format(utils.get_average_docs_per_cluster(aglo_model.predictions)))"
   ]
  },
  {
   "cell_type": "code",
   "execution_count": 28,
   "metadata": {},
   "outputs": [
    {
     "name": "stdout",
     "output_type": "stream",
     "text": [
      "Average Documents for K-Means 46.28\n"
     ]
    }
   ],
   "source": [
    "print('Average Documents for K-Means {}'.format(utils.get_average_docs_per_cluster(kmeans_model.km.labels_)))"
   ]
  },
  {
   "cell_type": "code",
   "execution_count": 29,
   "metadata": {},
   "outputs": [
    {
     "name": "stdout",
     "output_type": "stream",
     "text": [
      "Average Documents for Birch 46.28\n"
     ]
    }
   ],
   "source": [
    "print('Average Documents for Birch {}'.format(utils.get_average_docs_per_cluster(birch_model.model.labels_)))"
   ]
  }
 ],
 "metadata": {
  "kernelspec": {
   "display_name": "Python 3",
   "language": "python",
   "name": "python3"
  },
  "language_info": {
   "codemirror_mode": {
    "name": "ipython",
    "version": 3
   },
   "file_extension": ".py",
   "mimetype": "text/x-python",
   "name": "python",
   "nbconvert_exporter": "python",
   "pygments_lexer": "ipython3",
   "version": "3.6.8"
  }
 },
 "nbformat": 4,
 "nbformat_minor": 2
}
