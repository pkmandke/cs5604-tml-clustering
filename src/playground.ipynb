{
 "cells": [
  {
   "cell_type": "markdown",
   "metadata": {},
   "source": [
    "# Playground to experiment"
   ]
  },
  {
   "cell_type": "code",
   "execution_count": 1,
   "metadata": {},
   "outputs": [],
   "source": [
    "import gensim\n",
    "import nltk\n",
    "import pandas as pd\n",
    "import numpy as np\n",
    "import matplotlib.pyplot as plt\n",
    "import joblib\n",
    "import sys\n",
    "sys.setrecursionlimit(10000)\n",
    "from datetime import timedelta\n",
    "import time\n",
    "\n",
    "from birch import BIRCH\n",
    "import kmeans\n",
    "from pre_process import extract_mapped_doc2vecs, Doc2vec_wrapper"
   ]
  },
  {
   "cell_type": "markdown",
   "metadata": {},
   "source": [
    "## Compute optimal minPts and eps value for DBSCAN\n",
    "\n",
    "Using the heuristic suggested in Section 4.2 of the [DBSCAN paper](https://www.aaai.org/Papers/KDD/1996/KDD96-037.pdf)."
   ]
  },
  {
   "cell_type": "code",
   "execution_count": 2,
   "metadata": {},
   "outputs": [],
   "source": [
    "from utils import compute_optimal_k_dists\n",
    "def get_kdist_plot(data, k):\n",
    "    kdists = sorted(compute_optimal_k_dists(data, k), reverse=True)\n",
    "    #len(kdists)\n",
    "\n",
    "    plt.plot(range(1, len(kdists) + 1), kdists, '-ro')\n",
    "    return plt.show"
   ]
  },
  {
   "cell_type": "markdown",
   "metadata": {},
   "source": [
    "### ETD docvectors"
   ]
  },
  {
   "cell_type": "code",
   "execution_count": 3,
   "metadata": {},
   "outputs": [],
   "source": [
    "DOCVEC_PATH = '../obj/etd/doc2vec/abstracts_etd_doc2vec_all_docs30961_docs'\n",
    "\n",
    "docvec_model = gensim.models.doc2vec.Doc2Vec.load(DOCVEC_PATH)\n",
    "\n",
    "doc_vectors, keys = extract_mapped_doc2vecs(docvec_model)\n"
   ]
  },
  {
   "cell_type": "markdown",
   "metadata": {},
   "source": [
    "# K-Dist crossvalidation"
   ]
  },
  {
   "cell_type": "code",
   "execution_count": 3,
   "metadata": {},
   "outputs": [
    {
     "name": "stdout",
     "output_type": "stream",
     "text": [
      "23140\n",
      "Computing 3-dist for 23140th point\n",
      "Time taken 4:27:26.272938s\n"
     ]
    },
    {
     "data": {
      "text/plain": [
       "Text(0.5, 1.0, 'DBSCAN Hyper-parameter Selection')"
      ]
     },
     "execution_count": 3,
     "metadata": {},
     "output_type": "execute_result"
    },
    {
     "data": {
      "image/png": "[encoded data removed]",
      "text/plain": [
       "<Figure size 432x288 with 1 Axes>"
      ]
     },
     "metadata": {
      "needs_background": "light"
     },
     "output_type": "display_data"
    }
   ],
   "source": [
    "get_kdist_plot(np.array(doc_vectors), 3)\n",
    "plt.xlabel('Document')\n",
    "plt.ylabel('eps')\n",
    "plt.title('DBSCAN Hyper-parameter Selection')"
   ]
  },
  {
   "cell_type": "code",
   "execution_count": null,
   "metadata": {},
   "outputs": [],
   "source": [
    "get_kdist_plot(np.array(doc_vectors), 4)"
   ]
  },
  {
   "cell_type": "code",
   "execution_count": null,
   "metadata": {},
   "outputs": [],
   "source": [
    "get_kdist_plot(np.array(doc_vectors), 5)"
   ]
  },
  {
   "cell_type": "code",
   "execution_count": 6,
   "metadata": {},
   "outputs": [
    {
     "name": "stdout",
     "output_type": "stream",
     "text": [
      "23140\n",
      "Computing 8-dist for 23140th point\r\n",
      "Time taken 1:14:34.074805s\n"
     ]
    },
    {
     "data": {
      "text/plain": [
       "<function matplotlib.pyplot.show(*args, **kw)>"
      ]
     },
     "execution_count": 6,
     "metadata": {},
     "output_type": "execute_result"
    },
    {
     "data": {
      "image/png": "[encoded data removed]",
      "text/plain": [
       "<Figure size 432x288 with 1 Axes>"
      ]
     },
     "metadata": {
      "needs_background": "light"
     },
     "output_type": "display_data"
    }
   ],
   "source": [
    "get_kdist_plot(np.array(doc_vectors), 8)"
   ]
  },
  {
   "cell_type": "code",
   "execution_count": 7,
   "metadata": {},
   "outputs": [
    {
     "name": "stdout",
     "output_type": "stream",
     "text": [
      "23140\n",
      "Computing 10-dist for 23140th point\r\n",
      "Time taken 1:15:22.164549s\n"
     ]
    },
    {
     "data": {
      "text/plain": [
       "<function matplotlib.pyplot.show(*args, **kw)>"
      ]
     },
     "execution_count": 7,
     "metadata": {},
     "output_type": "execute_result"
    },
    {
     "data": {
      "image/png": "[encoded data removed]",
      "text/plain": [
       "<Figure size 432x288 with 1 Axes>"
      ]
     },
     "metadata": {
      "needs_background": "light"
     },
     "output_type": "display_data"
    }
   ],
   "source": [
    "get_kdist_plot(np.array(doc_vectors), 10)"
   ]
  },
  {
   "cell_type": "markdown",
   "metadata": {},
   "source": [
    "## BIRCH trials"
   ]
  },
  {
   "cell_type": "code",
   "execution_count": 6,
   "metadata": {},
   "outputs": [],
   "source": [
    "data, keys = extract_mapped_doc2vecs(joblib.load('../obj/etd/doc2vec/abstracts_etd_doc2vec_all_docs30961_docs'))\n",
    "\n",
    "birch_model = BIRCH(keys)"
   ]
  },
  {
   "cell_type": "code",
   "execution_count": 7,
   "metadata": {},
   "outputs": [],
   "source": [
    "birch_model.fit(data)"
   ]
  },
  {
   "cell_type": "code",
   "execution_count": 14,
   "metadata": {},
   "outputs": [],
   "source": [
    "birch_model.save('../obj/etd/birch/iter_1/birch_full_data_docvecs.sav')"
   ]
  },
  {
   "cell_type": "code",
   "execution_count": 8,
   "metadata": {},
   "outputs": [
    {
     "data": {
      "text/plain": [
       "array([206, 206, 206, ..., 206, 303, 206])"
      ]
     },
     "execution_count": 8,
     "metadata": {},
     "output_type": "execute_result"
    }
   ],
   "source": [
    "birch_model.model.labels_"
   ]
  },
  {
   "cell_type": "code",
   "execution_count": 10,
   "metadata": {},
   "outputs": [
    {
     "data": {
      "text/plain": [
       "[22,\n",
       " 61,\n",
       " 18,\n",
       " 53,\n",
       " 19,\n",
       " 7,\n",
       " 46,\n",
       " 32,\n",
       " 29,\n",
       " 59,\n",
       " 26,\n",
       " 15,\n",
       " 49,\n",
       " 92,\n",
       " 47,\n",
       " 6,\n",
       " 7,\n",
       " 59,\n",
       " 112,\n",
       " 58,\n",
       " 125,\n",
       " 23,\n",
       " 8,\n",
       " 90,\n",
       " 65,\n",
       " 72,\n",
       " 44,\n",
       " 40,\n",
       " 174,\n",
       " 32,\n",
       " 22,\n",
       " 247,\n",
       " 84,\n",
       " 8,\n",
       " 87,\n",
       " 123,\n",
       " 122,\n",
       " 78,\n",
       " 58,\n",
       " 62,\n",
       " 46,\n",
       " 30,\n",
       " 114,\n",
       " 123,\n",
       " 68,\n",
       " 44,\n",
       " 62,\n",
       " 15,\n",
       " 7,\n",
       " 78,\n",
       " 29,\n",
       " 25,\n",
       " 33,\n",
       " 114,\n",
       " 51,\n",
       " 58,\n",
       " 69,\n",
       " 132,\n",
       " 98,\n",
       " 60,\n",
       " 54,\n",
       " 62,\n",
       " 25,\n",
       " 41,\n",
       " 50,\n",
       " 49,\n",
       " 13,\n",
       " 57,\n",
       " 40,\n",
       " 54,\n",
       " 80,\n",
       " 41,\n",
       " 6,\n",
       " 126,\n",
       " 42,\n",
       " 38,\n",
       " 24,\n",
       " 38,\n",
       " 29,\n",
       " 74,\n",
       " 97,\n",
       " 9,\n",
       " 56,\n",
       " 140,\n",
       " 23,\n",
       " 40,\n",
       " 65,\n",
       " 24,\n",
       " 10,\n",
       " 32,\n",
       " 5,\n",
       " 7,\n",
       " 103,\n",
       " 34,\n",
       " 51,\n",
       " 56,\n",
       " 13,\n",
       " 12,\n",
       " 5,\n",
       " 44,\n",
       " 14,\n",
       " 35,\n",
       " 61,\n",
       " 4,\n",
       " 121,\n",
       " 16,\n",
       " 44,\n",
       " 56,\n",
       " 8,\n",
       " 32,\n",
       " 5,\n",
       " 36,\n",
       " 19,\n",
       " 4,\n",
       " 41,\n",
       " 18,\n",
       " 25,\n",
       " 178,\n",
       " 41,\n",
       " 56,\n",
       " 98,\n",
       " 3,\n",
       " 12,\n",
       " 30,\n",
       " 30,\n",
       " 70,\n",
       " 39,\n",
       " 66,\n",
       " 98,\n",
       " 53,\n",
       " 71,\n",
       " 18,\n",
       " 18,\n",
       " 32,\n",
       " 100,\n",
       " 49,\n",
       " 5,\n",
       " 57,\n",
       " 47,\n",
       " 29,\n",
       " 76,\n",
       " 43,\n",
       " 61,\n",
       " 24,\n",
       " 8,\n",
       " 33,\n",
       " 39,\n",
       " 50,\n",
       " 11,\n",
       " 42,\n",
       " 7,\n",
       " 44,\n",
       " 71,\n",
       " 45,\n",
       " 27,\n",
       " 100,\n",
       " 100,\n",
       " 43,\n",
       " 56,\n",
       " 43,\n",
       " 55,\n",
       " 26,\n",
       " 12,\n",
       " 76,\n",
       " 27,\n",
       " 45,\n",
       " 11,\n",
       " 30,\n",
       " 38,\n",
       " 10,\n",
       " 42,\n",
       " 9,\n",
       " 42,\n",
       " 8,\n",
       " 51,\n",
       " 37,\n",
       " 278,\n",
       " 21,\n",
       " 24,\n",
       " 51,\n",
       " 6,\n",
       " 117,\n",
       " 43,\n",
       " 8,\n",
       " 11,\n",
       " 101,\n",
       " 18,\n",
       " 73,\n",
       " 50,\n",
       " 95,\n",
       " 43,\n",
       " 40,\n",
       " 28,\n",
       " 54,\n",
       " 7,\n",
       " 13,\n",
       " 32,\n",
       " 38,\n",
       " 8,\n",
       " 35,\n",
       " 47,\n",
       " 43,\n",
       " 17,\n",
       " 33,\n",
       " 47,\n",
       " 94,\n",
       " 1413,\n",
       " 48,\n",
       " 23,\n",
       " 48,\n",
       " 98,\n",
       " 23,\n",
       " 4,\n",
       " 73,\n",
       " 42,\n",
       " 26,\n",
       " 63,\n",
       " 39,\n",
       " 45,\n",
       " 26,\n",
       " 9,\n",
       " 16,\n",
       " 3,\n",
       " 7,\n",
       " 100,\n",
       " 261,\n",
       " 8,\n",
       " 79,\n",
       " 24,\n",
       " 26,\n",
       " 61,\n",
       " 95,\n",
       " 27,\n",
       " 29,\n",
       " 9,\n",
       " 7,\n",
       " 174,\n",
       " 11,\n",
       " 36,\n",
       " 180,\n",
       " 25,\n",
       " 251,\n",
       " 14,\n",
       " 59,\n",
       " 51,\n",
       " 49,\n",
       " 38,\n",
       " 36,\n",
       " 44,\n",
       " 58,\n",
       " 66,\n",
       " 45,\n",
       " 6,\n",
       " 16,\n",
       " 74,\n",
       " 17,\n",
       " 48,\n",
       " 58,\n",
       " 1,\n",
       " 23,\n",
       " 1,\n",
       " 151,\n",
       " 101,\n",
       " 6,\n",
       " 11,\n",
       " 21,\n",
       " 58,\n",
       " 69,\n",
       " 21,\n",
       " 146,\n",
       " 48,\n",
       " 46,\n",
       " 6,\n",
       " 82,\n",
       " 52,\n",
       " 63,\n",
       " 68,\n",
       " 5,\n",
       " 11,\n",
       " 67,\n",
       " 24,\n",
       " 124,\n",
       " 1,\n",
       " 45,\n",
       " 77,\n",
       " 120,\n",
       " 54,\n",
       " 4,\n",
       " 79,\n",
       " 62,\n",
       " 50,\n",
       " 2,\n",
       " 38,\n",
       " 26,\n",
       " 36,\n",
       " 34,\n",
       " 11,\n",
       " 3,\n",
       " 2,\n",
       " 4,\n",
       " 40,\n",
       " 27,\n",
       " 141,\n",
       " 281,\n",
       " 128,\n",
       " 5,\n",
       " 10,\n",
       " 18,\n",
       " 9,\n",
       " 8,\n",
       " 51,\n",
       " 13,\n",
       " 2,\n",
       " 3,\n",
       " 14,\n",
       " 81,\n",
       " 52,\n",
       " 38,\n",
       " 22,\n",
       " 33,\n",
       " 57,\n",
       " 120,\n",
       " 15,\n",
       " 1,\n",
       " 49,\n",
       " 55,\n",
       " 15,\n",
       " 6,\n",
       " 21,\n",
       " 17,\n",
       " 4,\n",
       " 52,\n",
       " 79,\n",
       " 18,\n",
       " 136,\n",
       " 51,\n",
       " 70,\n",
       " 12,\n",
       " 19,\n",
       " 14,\n",
       " 40,\n",
       " 37,\n",
       " 19,\n",
       " 294,\n",
       " 59,\n",
       " 61,\n",
       " 30,\n",
       " 8,\n",
       " 22,\n",
       " 114,\n",
       " 122,\n",
       " 1,\n",
       " 21,\n",
       " 16,\n",
       " 34,\n",
       " 58,\n",
       " 34,\n",
       " 47,\n",
       " 54,\n",
       " 27,\n",
       " 4,\n",
       " 7,\n",
       " 22,\n",
       " 36,\n",
       " 43,\n",
       " 27,\n",
       " 57,\n",
       " 22,\n",
       " 21,\n",
       " 39,\n",
       " 26,\n",
       " 9,\n",
       " 9,\n",
       " 21,\n",
       " 6,\n",
       " 18,\n",
       " 14,\n",
       " 22,\n",
       " 20,\n",
       " 78,\n",
       " 15,\n",
       " 24,\n",
       " 77,\n",
       " 6,\n",
       " 12,\n",
       " 13,\n",
       " 17,\n",
       " 62,\n",
       " 9,\n",
       " 35,\n",
       " 11,\n",
       " 25,\n",
       " 50,\n",
       " 9,\n",
       " 6,\n",
       " 28,\n",
       " 46,\n",
       " 51,\n",
       " 57,\n",
       " 17,\n",
       " 64,\n",
       " 68,\n",
       " 18,\n",
       " 16,\n",
       " 30,\n",
       " 5,\n",
       " 30,\n",
       " 67,\n",
       " 1,\n",
       " 27,\n",
       " 49,\n",
       " 20,\n",
       " 15,\n",
       " 23,\n",
       " 12,\n",
       " 23,\n",
       " 2,\n",
       " 41,\n",
       " 5,\n",
       " 86,\n",
       " 11,\n",
       " 3,\n",
       " 24,\n",
       " 8,\n",
       " 28,\n",
       " 5,\n",
       " 13,\n",
       " 11,\n",
       " 29,\n",
       " 31,\n",
       " 20,\n",
       " 1,\n",
       " 7,\n",
       " 63,\n",
       " 8,\n",
       " 45,\n",
       " 76,\n",
       " 8,\n",
       " 32,\n",
       " 58,\n",
       " 86,\n",
       " 24,\n",
       " 9,\n",
       " 10,\n",
       " 2,\n",
       " 191,\n",
       " 29,\n",
       " 13,\n",
       " 31,\n",
       " 57,\n",
       " 22,\n",
       " 63,\n",
       " 38,\n",
       " 231,\n",
       " 15,\n",
       " 90,\n",
       " 23,\n",
       " 12,\n",
       " 13,\n",
       " 38,\n",
       " 10,\n",
       " 20,\n",
       " 2,\n",
       " 7,\n",
       " 20,\n",
       " 5,\n",
       " 15,\n",
       " 24,\n",
       " 55,\n",
       " 28,\n",
       " 49,\n",
       " 23,\n",
       " 56,\n",
       " 17,\n",
       " 68,\n",
       " 1,\n",
       " 17,\n",
       " 31,\n",
       " 30,\n",
       " 49,\n",
       " 31,\n",
       " 13,\n",
       " 37,\n",
       " 12,\n",
       " 2,\n",
       " 10,\n",
       " 109,\n",
       " 13,\n",
       " 73,\n",
       " 62,\n",
       " 12,\n",
       " 7,\n",
       " 58,\n",
       " 17,\n",
       " 29,\n",
       " 2,\n",
       " 26,\n",
       " 12,\n",
       " 25,\n",
       " 24]"
      ]
     },
     "execution_count": 10,
     "metadata": {},
     "output_type": "execute_result"
    }
   ],
   "source": [
    "[len([_ for _ in birch_model.model.labels_ if _ == idx]) for idx in range(500)]"
   ]
  },
  {
   "cell_type": "markdown",
   "metadata": {},
   "source": [
    "# Compute Optimal cluster count based on Silhouette Coefficient\n",
    "\n",
    "Cluster Nos: 300, 350, 400, 450, 500, 550, 600, 650, 700, 750, 800"
   ]
  },
  {
   "cell_type": "code",
   "execution_count": 5,
   "metadata": {},
   "outputs": [],
   "source": [
    "from sklearn.metrics import silhouette_score as s_score\n",
    "import kmeans, dbscan, birch, agglo_clus\n",
    "import time\n",
    "from datetime import timedelta"
   ]
  },
  {
   "cell_type": "markdown",
   "metadata": {},
   "source": [
    "## K-Means"
   ]
  },
  {
   "cell_type": "code",
   "execution_count": 7,
   "metadata": {},
   "outputs": [
    {
     "name": "stdout",
     "output_type": "stream",
     "text": [
      "Silhouette Score for 300 clusters is -0.07421582192182541\n",
      "Silhouette Score for 350 clusters is -0.07225419580936432\n",
      "Silhouette Score for 400 clusters is -0.07026295363903046\n",
      "Silhouette Score for 450 clusters is -0.07031391561031342\n",
      "Silhouette Score for 500 clusters is -0.06777062267065048\n",
      "Silhouette Score for 550 clusters is -0.06716005504131317\n",
      "Silhouette Score for 600 clusters is -0.06686417758464813\n",
      "Silhouette Score for 650 clusters is -0.06626772880554199\n",
      "Silhouette Score for 700 clusters is -0.06474390625953674\n",
      "Silhouette Score for 750 clusters is -0.06430533528327942\n",
      "Silhouette Score for 800 clusters is -0.06363734602928162\n",
      "Time taken 3584 days, 20:45:27.917987s\n"
     ]
    }
   ],
   "source": [
    "t1 = time.monotonic()\n",
    "\n",
    "for clus in [300, 350, 400, 450, 500, 550, 600, 650, 700, 750, 800]:\n",
    "    \n",
    "    km_obj = kmeans.Kmeans(doc_list=keys, n_clusters=clus, init='k-means++', n_init=3, n_jobs=10, random_state=42, verbose=0, algorithm='full', iter_='3')\n",
    "\n",
    "    km_obj.fit(doc_vectors)\n",
    "    \n",
    "    ordered_labels = [km_obj.km.labels_[km_obj.doc_list.index(uri)] for uri in keys]\n",
    "\n",
    "    #km_obj.save('abstracts_etd_doc2doc_vectorsll_docs30961_docs_kmeans.sav')\n",
    "    \n",
    "    print(\"Silhouette Score for {} clusters is {}\".format(clus, s_score(doc_vectors, ordered_labels)))\n",
    "\n",
    "print(\"Time taken {}s\".format(timedelta(time.monotonic() - t1)))\n"
   ]
  },
  {
   "cell_type": "markdown",
   "metadata": {},
   "source": [
    "# Birch"
   ]
  },
  {
   "cell_type": "code",
   "execution_count": 6,
   "metadata": {},
   "outputs": [
    {
     "name": "stdout",
     "output_type": "stream",
     "text": [
      "Silhouette Score for 300 clusters is -0.08670184016227722\n",
      "Silhouette Score for 350 clusters is -0.08318816125392914\n",
      "Silhouette Score for 400 clusters is -0.07986040413379669\n",
      "Silhouette Score for 450 clusters is -0.07655654102563858\n",
      "Silhouette Score for 500 clusters is -0.07339378446340561\n",
      "Silhouette Score for 550 clusters is -0.07084903120994568\n",
      "Silhouette Score for 600 clusters is -0.06838510185480118\n",
      "Silhouette Score for 650 clusters is -0.06614571809768677\n",
      "Silhouette Score for 700 clusters is -0.06423118710517883\n",
      "Silhouette Score for 750 clusters is -0.06244669854640961\n",
      "Silhouette Score for 800 clusters is -0.060417480766773224\n",
      "Time taken 0:53:27.514675s\n"
     ]
    }
   ],
   "source": [
    "t1 = time.monotonic()\n",
    "\n",
    "for clus in [300, 350, 400, 450, 500, 550, 600, 650, 700, 750, 800]:\n",
    "    birch_model = BIRCH(keys, n_clusters=clus)\n",
    "\n",
    "    birch_model.fit(doc_vectors)\n",
    "        \n",
    "    ordered_labels = [birch_model.model.labels_[birch_model.doc_list.index(uri)] for uri in keys]\n",
    "        \n",
    "    print(\"Silhouette Score for {} clusters is {}\".format(clus, s_score(doc_vectors, ordered_labels)))\n",
    "\n",
    "print(\"Time taken {}s\".format(timedelta(seconds=time.monotonic() - t1)))\n"
   ]
  },
  {
   "cell_type": "markdown",
   "metadata": {},
   "source": [
    "# Agglomerative Clustering"
   ]
  },
  {
   "cell_type": "code",
   "execution_count": 7,
   "metadata": {},
   "outputs": [
    {
     "name": "stdout",
     "output_type": "stream",
     "text": [
      "Starting clustering...\n",
      "Done training in 0:03:26.520700s\n",
      "Silhouette Score for 300 clusters is -0.09452559798955917\n",
      "Starting clustering...\n",
      "Done training in 0:03:28.296331s\n",
      "Silhouette Score for 350 clusters is -0.09087933599948883\n",
      "Starting clustering...\n",
      "Done training in 0:03:27.329644s\n",
      "Silhouette Score for 400 clusters is -0.08704859018325806\n",
      "Starting clustering...\n",
      "Done training in 0:03:29.593100s\n",
      "Silhouette Score for 450 clusters is -0.08463936299085617\n",
      "Starting clustering...\n",
      "Done training in 0:03:26.640136s\n",
      "Silhouette Score for 500 clusters is -0.08218313008546829\n",
      "Starting clustering...\n",
      "Done training in 0:03:26.318846s\n",
      "Silhouette Score for 550 clusters is -0.08001600205898285\n",
      "Starting clustering...\n",
      "Done training in 0:03:25.194879s\n",
      "Silhouette Score for 600 clusters is -0.0793418288230896\n",
      "Starting clustering...\n",
      "Done training in 0:03:24.817537s\n",
      "Silhouette Score for 650 clusters is -0.07694165408611298\n",
      "Starting clustering...\n",
      "Done training in 0:03:28.050023s\n",
      "Silhouette Score for 700 clusters is -0.07472237944602966\n",
      "Starting clustering...\n",
      "Done training in 0:03:25.942146s\n",
      "Silhouette Score for 750 clusters is -0.07301338762044907\n",
      "Starting clustering...\n",
      "Done training in 0:03:27.957428s\n",
      "Silhouette Score for 800 clusters is -0.07116321474313736\n",
      "Time taken 0:43:57.667826s\n"
     ]
    }
   ],
   "source": [
    "from agglo_clus import Agglo_clus\n",
    "t1 = time.monotonic()\n",
    "\n",
    "for clus in [300, 350, 400, 450, 500, 550, 600, 650, 700, 750, 800]:\n",
    "    \n",
    "    model = Agglo_clus(doc_vectors, keys, num_clus=clus, linkage='ward', affinity='euclidean', iter_='2')\n",
    "\n",
    "    model.clusterize()\n",
    "\n",
    "    print(\"Silhouette Score for {} clusters is {}\".format(clus, s_score(model.feature_matrix, model.predictions)))\n",
    "\n",
    "print(\"Time taken {}s\".format(timedelta(seconds=time.monotonic() - t1)))"
   ]
  },
  {
   "cell_type": "code",
   "execution_count": null,
   "metadata": {},
   "outputs": [],
   "source": []
  }
 ],
 "metadata": {
  "kernelspec": {
   "display_name": "Python 3",
   "language": "python",
   "name": "python3"
  },
  "language_info": {
   "codemirror_mode": {
    "name": "ipython",
    "version": 3
   },
   "file_extension": ".py",
   "mimetype": "text/x-python",
   "name": "python",
   "nbconvert_exporter": "python",
   "pygments_lexer": "ipython3",
   "version": "3.6.8"
  }
 },
 "nbformat": 4,
 "nbformat_minor": 2
}
