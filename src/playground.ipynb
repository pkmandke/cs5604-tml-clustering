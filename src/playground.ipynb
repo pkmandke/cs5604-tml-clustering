{
 "cells": [
  {
   "cell_type": "markdown",
   "metadata": {},
   "source": [
    "# Playground to experiment"
   ]
  },
  {
   "cell_type": "code",
   "execution_count": 1,
   "metadata": {},
   "outputs": [
    {
     "name": "stderr",
     "output_type": "stream",
     "text": [
      "/home/prathamesh/myvenv/_tml_clustering_/lib/python3.5/site-packages/scipy/sparse/sparsetools.py:21: DeprecationWarning: `scipy.sparse.sparsetools` is deprecated!\n",
      "scipy.sparse.sparsetools is a private module for scipy.sparse, and should not be used.\n",
      "  _deprecated()\n"
     ]
    }
   ],
   "source": [
    "import gensim\n",
    "import nltk\n",
    "import pandas as pd\n",
    "import numpy as np\n",
    "import matplotlib.pyplot as plt\n",
    "\n",
    "import kmeans\n",
    "from pre_process import extract_mapped_doc2vecs, Doc2vec_wrapper"
   ]
  },
  {
   "cell_type": "markdown",
   "metadata": {},
   "source": [
    "## Compute optimal minPts and eps value for DBSCAN\n",
    "\n",
    "Using the heuristic suggested in Section 4.2 of the [DBSCAN paper](https://www.aaai.org/Papers/KDD/1996/KDD96-037.pdf)."
   ]
  },
  {
   "cell_type": "code",
   "execution_count": 2,
   "metadata": {},
   "outputs": [],
   "source": [
    "from utils import compute_optimal_k_dists\n",
    "def get_kdist_plot(data, k):\n",
    "    kdists = sorted(compute_optimal_k_dists(data, k), reverse=True)\n",
    "    #len(kdists)\n",
    "\n",
    "    plt.plot(range(1, len(kdists) + 1), kdists, '-ro')\n",
    "    return plt.show"
   ]
  },
  {
   "cell_type": "markdown",
   "metadata": {},
   "source": [
    "### ETD docvectors"
   ]
  },
  {
   "cell_type": "code",
   "execution_count": null,
   "metadata": {},
   "outputs": [
    {
     "name": "stdout",
     "output_type": "stream",
     "text": [
      "23140\n",
      "Computing 4-dist for 44th point\r"
     ]
    }
   ],
   "source": [
    "DOCVEC_PATH = '../obj/etd/doc2vec/abstracts_etd_doc2vec_all_docs30961_docs'\n",
    "\n",
    "docvec_model = gensim.models.doc2vec.Doc2Vec.load(DOCVEC_PATH)\n",
    "\n",
    "doc_vectors, keys = extract_mapped_doc2vecs(docvec_model)\n",
    "\n",
    "get_kdist_plot(np.array(doc_vectors), 3)"
   ]
  },
  {
   "cell_type": "code",
   "execution_count": null,
   "metadata": {},
   "outputs": [],
   "source": [
    "get_kdist_plot(np.array(doc_vectors), 4)"
   ]
  },
  {
   "cell_type": "code",
   "execution_count": null,
   "metadata": {},
   "outputs": [],
   "source": [
    "get_kdist_plot(np.array(doc_vectors), 5)"
   ]
  },
  {
   "cell_type": "code",
   "execution_count": null,
   "metadata": {},
   "outputs": [],
   "source": [
    "get_kdist_plot(np.array(doc_vectors), 8)"
   ]
  },
  {
   "cell_type": "code",
   "execution_count": null,
   "metadata": {},
   "outputs": [],
   "source": [
    "get_kdist_plot(np.array(doc_vectors), 10)"
   ]
  }
 ],
 "metadata": {
  "kernelspec": {
   "display_name": "Python 3",
   "language": "python",
   "name": "python3"
  },
  "language_info": {
   "codemirror_mode": {
    "name": "ipython",
    "version": 3
   },
   "file_extension": ".py",
   "mimetype": "text/x-python",
   "name": "python",
   "nbconvert_exporter": "python",
   "pygments_lexer": "ipython3",
   "version": "3.5.2"
  }
 },
 "nbformat": 4,
 "nbformat_minor": 2
}